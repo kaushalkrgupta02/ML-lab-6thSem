{
 "cells": [
  {
   "cell_type": "code",
   "execution_count": 1,
   "id": "069795b5",
   "metadata": {},
   "outputs": [
    {
     "name": "stdout",
     "output_type": "stream",
     "text": [
      "1D Array: [1 2 3 4 5]\n",
      "2D Array:\n",
      " [[1 2 3]\n",
      " [4 5 6]]\n",
      "Zeros Array:\n",
      " [[0. 0. 0.]\n",
      " [0. 0. 0.]]\n",
      "Ones Array:\n",
      " [[1. 1.]\n",
      " [1. 1.]\n",
      " [1. 1.]]\n",
      "Range Array: [0 2 4 6 8]\n",
      "Random Array:\n",
      " [[0.32679333 0.19428744 0.29936427]\n",
      " [0.32294434 0.03032896 0.71802515]\n",
      " [0.59302038 0.74128871 0.7954917 ]]\n",
      "Array after adding 5: [ 6  7  8  9 10]\n",
      "Matrix Product:\n",
      " [[19 22]\n",
      " [43 50]]\n",
      "Transpose of Matrix A:\n",
      " [[1 3]\n",
      " [2 4]]\n",
      "Mean of 1D Array: 3.0\n",
      "Standard Deviation of 1D Array: 1.4142135623730951\n",
      "Reshaped Array:\n",
      " [[1 2 3 4 5]]\n"
     ]
    }
   ],
   "source": [
    "import numpy as np\n",
    "\n",
    "# Create a 1D array\n",
    "array_1d = np.array([1, 2, 3, 4, 5])\n",
    "print(\"1D Array:\", array_1d)\n",
    "\n",
    "# Create a 2D array\n",
    "array_2d = np.array([[1, 2, 3], [4, 5, 6]])\n",
    "print(\"2D Array:\\n\", array_2d)\n",
    "\n",
    "# Generate an array of zeros\n",
    "zeros_array = np.zeros((2, 3))\n",
    "print(\"Zeros Array:\\n\", zeros_array)\n",
    "\n",
    "# Generate an array of ones\n",
    "ones_array = np.ones((3, 2))\n",
    "print(\"Ones Array:\\n\", ones_array)\n",
    "\n",
    "# Generate an array with a range of values\n",
    "range_array = np.arange(0, 10, 2)\n",
    "print(\"Range Array:\", range_array)\n",
    "\n",
    "# Generate a random array\n",
    "random_array = np.random.rand(3, 3)\n",
    "print(\"Random Array:\\n\", random_array)\n",
    "\n",
    "# Perform element-wise operations\n",
    "array_sum = array_1d + 5\n",
    "print(\"Array after adding 5:\", array_sum)\n",
    "\n",
    "# Matrix multiplication\n",
    "matrix_a = np.array([[1, 2], [3, 4]])\n",
    "matrix_b = np.array([[5, 6], [7, 8]])\n",
    "matrix_product = np.dot(matrix_a, matrix_b)\n",
    "print(\"Matrix Product:\\n\", matrix_product)\n",
    "\n",
    "# Transpose of a matrix\n",
    "transpose_matrix = np.transpose(matrix_a)\n",
    "print(\"Transpose of Matrix A:\\n\", transpose_matrix)\n",
    "\n",
    "# Statistical operations\n",
    "mean_value = np.mean(array_1d)\n",
    "print(\"Mean of 1D Array:\", mean_value)\n",
    "\n",
    "std_deviation = np.std(array_1d)\n",
    "print(\"Standard Deviation of 1D Array:\", std_deviation)\n",
    "\n",
    "# Reshape an array\n",
    "reshaped_array = np.reshape(array_1d, (1, 5))\n",
    "print(\"Reshaped Array:\\n\", reshaped_array)"
   ]
  }
 ],
 "metadata": {
  "kernelspec": {
   "display_name": "Python 3",
   "language": "python",
   "name": "python3"
  },
  "language_info": {
   "codemirror_mode": {
    "name": "ipython",
    "version": 3
   },
   "file_extension": ".py",
   "mimetype": "text/x-python",
   "name": "python",
   "nbconvert_exporter": "python",
   "pygments_lexer": "ipython3",
   "version": "3.12.1"
  }
 },
 "nbformat": 4,
 "nbformat_minor": 5
}
