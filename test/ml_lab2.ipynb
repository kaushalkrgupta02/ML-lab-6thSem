{
 "cells": [
  {
   "cell_type": "markdown",
   "id": "ba4d490f-8d41-4fc4-8e6e-85414e5d4599",
   "metadata": {},
   "source": [
    "# ML Lab 2"
   ]
  },
  {
   "cell_type": "code",
   "execution_count": 3,
   "id": "aaa53a87-8a03-499e-bbb2-963c08462d40",
   "metadata": {},
   "outputs": [],
   "source": [
    "import pandas as pd\n",
    "import IPython.display as display"
   ]
  },
  {
   "cell_type": "code",
   "execution_count": 4,
   "id": "00a2e49f-3175-4c81-9961-0fd5d978fc1f",
   "metadata": {},
   "outputs": [],
   "source": [
    "data = {'Name': [\"Anirudh\",\"Yash\",\"Pal\",\"Dubey\"],\n",
    "        'Location':[\"Lucknow\",\"Jahrkhand\",\"Noida\",\"Mirzapur\"],\n",
    "        'Age':[20,21,20,22]}"
   ]
  },
  {
   "cell_type": "code",
   "execution_count": 8,
   "id": "6beb989e-822a-4031-b85c-54b26335c42d",
   "metadata": {},
   "outputs": [],
   "source": [
    "df=pd.DataFrame(data)"
   ]
  },
  {
   "cell_type": "code",
   "execution_count": 9,
   "id": "3ca2d7b5-2c0f-4c58-a92c-55fb40777ff8",
   "metadata": {},
   "outputs": [
    {
     "data": {
      "text/html": [
       "<div>\n",
       "<style scoped>\n",
       "    .dataframe tbody tr th:only-of-type {\n",
       "        vertical-align: middle;\n",
       "    }\n",
       "\n",
       "    .dataframe tbody tr th {\n",
       "        vertical-align: top;\n",
       "    }\n",
       "\n",
       "    .dataframe thead th {\n",
       "        text-align: right;\n",
       "    }\n",
       "</style>\n",
       "<table border=\"1\" class=\"dataframe\">\n",
       "  <thead>\n",
       "    <tr style=\"text-align: right;\">\n",
       "      <th></th>\n",
       "      <th>Name</th>\n",
       "      <th>Age</th>\n",
       "      <th>City</th>\n",
       "    </tr>\n",
       "  </thead>\n",
       "  <tbody>\n",
       "    <tr>\n",
       "      <th>0</th>\n",
       "      <td>Alice</td>\n",
       "      <td>24</td>\n",
       "      <td>New York</td>\n",
       "    </tr>\n",
       "    <tr>\n",
       "      <th>1</th>\n",
       "      <td>Bob</td>\n",
       "      <td>30</td>\n",
       "      <td>Los Angeles</td>\n",
       "    </tr>\n",
       "    <tr>\n",
       "      <th>2</th>\n",
       "      <td>Charlie</td>\n",
       "      <td>22</td>\n",
       "      <td>Chicago</td>\n",
       "    </tr>\n",
       "  </tbody>\n",
       "</table>\n",
       "</div>"
      ],
      "text/plain": [
       "      Name  Age         City\n",
       "0    Alice   24     New York\n",
       "1      Bob   30  Los Angeles\n",
       "2  Charlie   22      Chicago"
      ]
     },
     "metadata": {},
     "output_type": "display_data"
    }
   ],
   "source": [
    "\n",
    "# Use display() to show it nicely (in Jupyter/Colab)\n",
    "display(df)\n"
   ]
  },
  {
   "cell_type": "code",
   "execution_count": 18,
   "id": "649be837-98ef-40bf-91f1-6536884bbc0b",
   "metadata": {},
   "outputs": [
    {
     "name": "stdout",
     "output_type": "stream",
     "text": [
      "Empty DataFrame\n",
      "Columns: [Name, Location, Age]\n",
      "Index: []\n"
     ]
    }
   ],
   "source": [
    "print(Df[Df['Age'] > 30])"
   ]
  },
  {
   "cell_type": "code",
   "execution_count": 34,
   "id": "adb1fe73-ab6a-48dc-8cf7-5e4e741df378",
   "metadata": {},
   "outputs": [
    {
     "name": "stdout",
     "output_type": "stream",
     "text": [
      "   Name   Location  Age\n",
      "1  Yash  Jahrkhand   21\n"
     ]
    }
   ],
   "source": [
    "print(Df[Df['Name'] == \"Yash\"])"
   ]
  },
  {
   "cell_type": "code",
   "execution_count": 40,
   "id": "1af2f8cd-c5d9-4813-a93d-66cb1c834599",
   "metadata": {},
   "outputs": [],
   "source": [
    "from sklearn.datasets import load_iris"
   ]
  },
  {
   "cell_type": "code",
   "execution_count": 41,
   "id": "90060f77-8ff2-4527-9261-9de8a09e7623",
   "metadata": {},
   "outputs": [],
   "source": [
    "id = load_iris()"
   ]
  },
  {
   "cell_type": "code",
   "execution_count": 42,
   "id": "7569c8a9-77d1-40c6-88a2-01e1ab1c3e28",
   "metadata": {},
   "outputs": [
    {
     "name": "stdout",
     "output_type": "stream",
     "text": [
      "Keys of the Iris dataset: dict_keys(['data', 'target', 'frame', 'target_names', 'DESCR', 'feature_names', 'filename', 'data_module'])\n"
     ]
    }
   ],
   "source": [
    "print(\"Keys of the Iris dataset: {}\".format(id.keys()))"
   ]
  },
  {
   "cell_type": "code",
   "execution_count": 47,
   "id": "11ebcdd7-5592-44a5-a0ab-79dbe02a6f79",
   "metadata": {},
   "outputs": [
    {
     "name": "stdout",
     "output_type": "stream",
     "text": [
      "Target Names: ['setosa' 'versicolor' 'virginica']\n"
     ]
    }
   ],
   "source": [
    "print(\"Target Names: {}\".format(id['target_names']))"
   ]
  },
  {
   "cell_type": "code",
   "execution_count": 49,
   "id": "146b1e96-9523-4420-ac9a-55cf6d098bae",
   "metadata": {},
   "outputs": [
    {
     "name": "stdout",
     "output_type": "stream",
     "text": [
      "Target Names: ['sepal length (cm)', 'sepal width (cm)', 'petal length (cm)', 'petal width (cm)']\n"
     ]
    }
   ],
   "source": [
    "print(\"Target Names: {}\".format(id['feature_names']))"
   ]
  },
  {
   "cell_type": "code",
   "execution_count": 62,
   "id": "7e0db9e1-26db-4fe5-a381-741da51d676d",
   "metadata": {},
   "outputs": [
    {
     "name": "stdout",
     "output_type": "stream",
     "text": [
      "shape of data: (150, 4)\n"
     ]
    }
   ],
   "source": [
    "print(\"shape of data: {}\".format(id['data'].shape))"
   ]
  },
  {
   "cell_type": "code",
   "execution_count": 65,
   "id": "cfef685f-b5c4-457d-9f3c-54aaef5e17e1",
   "metadata": {},
   "outputs": [],
   "source": [
    "from sklearn.model_selection import train_test_split"
   ]
  },
  {
   "cell_type": "code",
   "execution_count": null,
   "id": "0292aeb4-288d-4364-aa59-79351ccc9129",
   "metadata": {},
   "outputs": [],
   "source": [
    "iris = load_iris()\n",
    "X = iris.data[:, [0, 1, 3]]  \n",
    "y = iris.data[:, 2]  "
   ]
  },
  {
   "cell_type": "code",
   "execution_count": 1,
   "id": "6e85ce36-6ce8-4156-a642-b23562e4b103",
   "metadata": {},
   "outputs": [
    {
     "name": "stdout",
     "output_type": "stream",
     "text": [
      "Collecting mglearn\n",
      "  Downloading mglearn-0.2.0-py2.py3-none-any.whl.metadata (628 bytes)\n",
      "Requirement already satisfied: numpy in c:\\users\\aniru\\miniconda3\\lib\\site-packages (from mglearn) (1.26.4)\n",
      "Requirement already satisfied: matplotlib in c:\\users\\aniru\\miniconda3\\lib\\site-packages (from mglearn) (3.9.3)\n",
      "Requirement already satisfied: scikit-learn in c:\\users\\aniru\\miniconda3\\lib\\site-packages (from mglearn) (1.5.2)\n",
      "Requirement already satisfied: pandas in c:\\users\\aniru\\miniconda3\\lib\\site-packages (from mglearn) (2.2.3)\n",
      "Requirement already satisfied: pillow in c:\\users\\aniru\\miniconda3\\lib\\site-packages (from mglearn) (11.0.0)\n",
      "Requirement already satisfied: cycler in c:\\users\\aniru\\miniconda3\\lib\\site-packages (from mglearn) (0.12.1)\n",
      "Collecting imageio (from mglearn)\n",
      "  Downloading imageio-2.37.0-py3-none-any.whl.metadata (5.2 kB)\n",
      "Requirement already satisfied: joblib in c:\\users\\aniru\\miniconda3\\lib\\site-packages (from mglearn) (1.4.2)\n",
      "Requirement already satisfied: contourpy>=1.0.1 in c:\\users\\aniru\\miniconda3\\lib\\site-packages (from matplotlib->mglearn) (1.3.1)\n",
      "Requirement already satisfied: fonttools>=4.22.0 in c:\\users\\aniru\\miniconda3\\lib\\site-packages (from matplotlib->mglearn) (4.55.0)\n",
      "Requirement already satisfied: kiwisolver>=1.3.1 in c:\\users\\aniru\\miniconda3\\lib\\site-packages (from matplotlib->mglearn) (1.4.7)\n",
      "Requirement already satisfied: packaging>=20.0 in c:\\users\\aniru\\miniconda3\\lib\\site-packages (from matplotlib->mglearn) (24.1)\n",
      "Requirement already satisfied: pyparsing>=2.3.1 in c:\\users\\aniru\\miniconda3\\lib\\site-packages (from matplotlib->mglearn) (3.2.0)\n",
      "Requirement already satisfied: python-dateutil>=2.7 in c:\\users\\aniru\\miniconda3\\lib\\site-packages (from matplotlib->mglearn) (2.9.0.post0)\n",
      "Requirement already satisfied: pytz>=2020.1 in c:\\users\\aniru\\miniconda3\\lib\\site-packages (from pandas->mglearn) (2024.1)\n",
      "Requirement already satisfied: tzdata>=2022.7 in c:\\users\\aniru\\miniconda3\\lib\\site-packages (from pandas->mglearn) (2024.2)\n",
      "Requirement already satisfied: scipy>=1.6.0 in c:\\users\\aniru\\miniconda3\\lib\\site-packages (from scikit-learn->mglearn) (1.14.1)\n",
      "Requirement already satisfied: threadpoolctl>=3.1.0 in c:\\users\\aniru\\miniconda3\\lib\\site-packages (from scikit-learn->mglearn) (3.5.0)\n",
      "Requirement already satisfied: six>=1.5 in c:\\users\\aniru\\miniconda3\\lib\\site-packages (from python-dateutil>=2.7->matplotlib->mglearn) (1.16.0)\n",
      "Downloading mglearn-0.2.0-py2.py3-none-any.whl (581 kB)\n",
      "   ---------------------------------------- 0.0/581.4 kB ? eta -:--:--\n",
      "   ---------------------------------------- 0.0/581.4 kB ? eta -:--:--\n",
      "   ---------------------------------------- 0.0/581.4 kB ? eta -:--:--\n",
      "   ---------------------------------------- 0.0/581.4 kB ? eta -:--:--\n",
      "   ------------------ --------------------- 262.1/581.4 kB ? eta -:--:--\n",
      "   ------------------ --------------------- 262.1/581.4 kB ? eta -:--:--\n",
      "   ------------------ --------------------- 262.1/581.4 kB ? eta -:--:--\n",
      "   ------------------ --------------------- 262.1/581.4 kB ? eta -:--:--\n",
      "   ------------------ --------------------- 262.1/581.4 kB ? eta -:--:--\n",
      "   ------------------ --------------------- 262.1/581.4 kB ? eta -:--:--\n",
      "   -------------------------------------- 581.4/581.4 kB 234.9 kB/s eta 0:00:00\n",
      "Downloading imageio-2.37.0-py3-none-any.whl (315 kB)\n",
      "Installing collected packages: imageio, mglearn\n",
      "Successfully installed imageio-2.37.0 mglearn-0.2.0\n",
      "Note: you may need to restart the kernel to use updated packages.\n"
     ]
    }
   ],
   "source": [
    "pip install mglearn\n"
   ]
  },
  {
   "cell_type": "code",
   "execution_count": null,
   "id": "369cee63-695e-4937-9693-97869059a6b6",
   "metadata": {},
   "outputs": [],
   "source": []
  }
 ],
 "metadata": {
  "kernelspec": {
   "display_name": "Python 3 (ipykernel)",
   "language": "python",
   "name": "python3"
  },
  "language_info": {
   "codemirror_mode": {
    "name": "ipython",
    "version": 3
   },
   "file_extension": ".py",
   "mimetype": "text/x-python",
   "name": "python",
   "nbconvert_exporter": "python",
   "pygments_lexer": "ipython3",
   "version": "3.12.5"
  }
 },
 "nbformat": 4,
 "nbformat_minor": 5
}
