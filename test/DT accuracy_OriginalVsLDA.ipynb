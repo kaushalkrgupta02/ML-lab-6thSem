{
 "cells": [
  {
   "cell_type": "code",
   "execution_count": 37,
   "id": "e9b73179-3dce-43ee-aca4-f1ed0cd51897",
   "metadata": {},
   "outputs": [],
   "source": [
    "from sklearn.model_selection import train_test_split\n",
    "from sklearn.metrics import accuracy_score\n",
    "from sklearn.tree import DecisionTreeClassifier \n",
    "from sklearn.discriminant_analysis import LinearDiscriminantAnalysis\n",
    "from sklearn.datasets import load_iris\n",
    "import pandas as pd\n",
    "import matplotlib.pyplot as plt"
   ]
  },
  {
   "cell_type": "code",
   "execution_count": 38,
   "id": "68799946-e052-4a19-a174-3cc9f6e07bf7",
   "metadata": {},
   "outputs": [],
   "source": [
    "iris = load_iris()\n",
    "X = iris.data\n",
    "y = iris.target"
   ]
  },
  {
   "cell_type": "code",
   "execution_count": 39,
   "id": "4e933841-d4a3-4c08-ae1a-6da5764863fd",
   "metadata": {},
   "outputs": [],
   "source": [
    "X_train , X_test , y_train, y_test = train_test_split(X, y , test_size=0.4 ,random_state=42)"
   ]
  },
  {
   "cell_type": "code",
   "execution_count": 40,
   "id": "c4d9a334-df2b-4bb8-89ee-6542e708e162",
   "metadata": {},
   "outputs": [
    {
     "name": "stdout",
     "output_type": "stream",
     "text": [
      "Accuracy for original Decision Tree Classifier: 0.9666666666666667\n"
     ]
    }
   ],
   "source": [
    "dt_original= DecisionTreeClassifier(random_state=0)\n",
    "dt_original.fit(X_train,y_train)\n",
    "y_pred_orig= dt_original.predict(X_test)\n",
    "accc_orig=accuracy_score(y_test,y_pred_orig)\n",
    "print(\"Accuracy for original Decision Tree Classifier:\",accc_orig)"
   ]
  },
  {
   "cell_type": "code",
   "execution_count": 41,
   "id": "82a54fbb-670a-4061-8075-d0951deaa95b",
   "metadata": {},
   "outputs": [],
   "source": [
    "lda = LinearDiscriminantAnalysis(n_components=2)\n",
    "X_train_lda=lda.fit_transform(X_train, y_train)\n",
    "X_test_lda=lda.transform(X_test)"
   ]
  },
  {
   "cell_type": "code",
   "execution_count": 42,
   "id": "917b46e6-4d5e-4304-a744-806f7005ffd8",
   "metadata": {},
   "outputs": [
    {
     "name": "stdout",
     "output_type": "stream",
     "text": [
      "Accuracy for LDA  Decision Tree Classifier: 0.9833333333333333\n"
     ]
    }
   ],
   "source": [
    "dt_lda = DecisionTreeClassifier(random_state=0)\n",
    "dt_lda.fit(X_train_lda,y_train)\n",
    "y_pred_lda= dt_lda.predict(X_test_lda)\n",
    "acc_lda=accuracy_score(y_test,y_pred_lda)\n",
    "print(\"Accuracy for LDA  Decision Tree Classifier:\",acc_lda)"
   ]
  },
  {
   "cell_type": "code",
   "execution_count": 49,
   "id": "56d133d9-5a41-4132-bbcc-5b7d0fc053e6",
   "metadata": {},
   "outputs": [
    {
     "data": {
      "image/png": "[encoded data removed]",
      "text/plain": [
       "<Figure size 640x480 with 1 Axes>"
      ]
     },
     "metadata": {},
     "output_type": "display_data"
    }
   ],
   "source": [
    "plt.bar(['Orignal','LDA'],[accc_orig,acc_lda],color=['blue','green'])\n",
    "plt.ylabel('Accuracy')\n",
    "plt.title('DT accuracy: Original Vs LDA')\n",
    "plt.ylim(0,1)\n",
    "plt.show()"
   ]
  },
  {
   "cell_type": "code",
   "execution_count": null,
   "id": "299df817-2356-4b88-8aac-279b1e23053f",
   "metadata": {},
   "outputs": [],
   "source": []
  }
 ],
 "metadata": {
  "kernelspec": {
   "display_name": "Python 3 (ipykernel)",
   "language": "python",
   "name": "python3"
  },
  "language_info": {
   "codemirror_mode": {
    "name": "ipython",
    "version": 3
   },
   "file_extension": ".py",
   "mimetype": "text/x-python",
   "name": "python",
   "nbconvert_exporter": "python",
   "pygments_lexer": "ipython3",
   "version": "3.12.5"
  }
 },
 "nbformat": 4,
 "nbformat_minor": 5
}
