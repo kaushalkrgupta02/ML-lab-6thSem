{
 "cells": [
  {
   "cell_type": "code",
   "execution_count": 1,
   "id": "a089d589-d472-4ef2-a0a9-9a2f03e7d9c9",
   "metadata": {},
   "outputs": [],
   "source": [
    "from sklearn.linear_model import Ridge, Lasso\n",
    "from sklearn.datasets import load_diabetes\n",
    "from sklearn.preprocessing import StandardScaler\n",
    "from sklearn.metrics import r2_score,mean_squared_error,accuracy_score\n",
    "from sklearn.model_selection import train_test_split"
   ]
  },
  {
   "cell_type": "code",
   "execution_count": 8,
   "id": "46a9189b-c03d-4f28-817e-ebd5170922cf",
   "metadata": {},
   "outputs": [],
   "source": [
    "diabetes = load_diabetes()\n",
    "X=diabetes.data\n",
    "y=diabetes.target"
   ]
  },
  {
   "cell_type": "code",
   "execution_count": 9,
   "id": "a0ded83f-9a22-42cd-a1d9-1f1c9b791dd0",
   "metadata": {},
   "outputs": [],
   "source": [
    "X_train, X_test, y_train, y_test=train_test_split(X,y,test_size=0.2,random_state=42)"
   ]
  },
  {
   "cell_type": "code",
   "execution_count": 11,
   "id": "c884efe4-ff64-445c-b059-fa6ae2056e12",
   "metadata": {},
   "outputs": [],
   "source": [
    "scaler = StandardScaler()\n",
    "X_train=scaler.fit_transform(X_train)\n",
    "X_test=scaler.transform(X_test)"
   ]
  },
  {
   "cell_type": "code",
   "execution_count": 14,
   "id": "c84a4568-44cf-4f64-ba4a-4d69335625bf",
   "metadata": {},
   "outputs": [
    {
     "name": "stdout",
     "output_type": "stream",
     "text": [
      "Diabetes Ridge MSE: 2892.0145657501726\n"
     ]
    }
   ],
   "source": [
    "ridge=Ridge(alpha=1.0)\n",
    "ridge.fit(X_train, y_train)\n",
    "ridge_pred = ridge.predict(X_test)\n",
    "mse_ridge =  mean_squared_error(y_test, ridge_pred)\n",
    "print(\"Diabetes Ridge MSE:\",mse_ridge)"
   ]
  },
  {
   "cell_type": "code",
   "execution_count": 15,
   "id": "d1668a03-4e25-48a2-9e82-5812fd839320",
   "metadata": {},
   "outputs": [
    {
     "name": "stdout",
     "output_type": "stream",
     "text": [
      "Diabetes Lasso MSE: 2884.6242887352123\n"
     ]
    }
   ],
   "source": [
    "lasso = Lasso(alpha=0.1)\n",
    "lasso.fit(X_train, y_train)\n",
    "lasso_pred = lasso.predict(X_test)\n",
    "mse_lasso=mean_squared_error(y_test, lasso_pred)\n",
    "print(\"Diabetes Lasso MSE:\",mse_lasso)"
   ]
  },
  {
   "cell_type": "code",
   "execution_count": null,
   "id": "66be1a2e-44e6-4642-bad2-fdce80ccb609",
   "metadata": {},
   "outputs": [],
   "source": []
  }
 ],
 "metadata": {
  "kernelspec": {
   "display_name": "Python 3",
   "language": "python",
   "name": "python3"
  },
  "language_info": {
   "codemirror_mode": {
    "name": "ipython",
    "version": 3
   },
   "file_extension": ".py",
   "mimetype": "text/x-python",
   "name": "python",
   "nbconvert_exporter": "python",
   "pygments_lexer": "ipython3",
   "version": "3.12.1"
  }
 },
 "nbformat": 4,
 "nbformat_minor": 5
}
